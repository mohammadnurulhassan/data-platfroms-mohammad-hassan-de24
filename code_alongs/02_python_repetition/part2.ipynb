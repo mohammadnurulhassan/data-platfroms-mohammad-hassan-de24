{
 "cells": [
  {
   "cell_type": "markdown",
   "metadata": {},
   "source": [
    "## Code alongs - fundamentals Part 2"
   ]
  },
  {
   "cell_type": "markdown",
   "metadata": {},
   "source": [
    "## Error handling\n"
   ]
  },
  {
   "cell_type": "markdown",
   "metadata": {},
   "source": [
    "-syntax error\n",
    "-runtime error\n",
    "-logical error"
   ]
  },
  {
   "cell_type": "code",
   "execution_count": 40,
   "metadata": {},
   "outputs": [
    {
     "ename": "NameError",
     "evalue": "name 'prin' is not defined",
     "output_type": "error",
     "traceback": [
      "\u001b[1;31m---------------------------------------------------------------------------\u001b[0m",
      "\u001b[1;31mNameError\u001b[0m                                 Traceback (most recent call last)",
      "Cell \u001b[1;32mIn[40], line 3\u001b[0m\n\u001b[0;32m      1\u001b[0m \u001b[38;5;66;03m#synteax error\u001b[39;00m\n\u001b[1;32m----> 3\u001b[0m \u001b[43mprin\u001b[49m(\u001b[38;5;124m\"\u001b[39m\u001b[38;5;124mhej\u001b[39m\u001b[38;5;124m\"\u001b[39m)\n",
      "\u001b[1;31mNameError\u001b[0m: name 'prin' is not defined"
     ]
    }
   ],
   "source": [
    "#synteax error\n",
    "\n",
    "prin(\"hej\")"
   ]
  },
  {
   "cell_type": "code",
   "execution_count": 3,
   "metadata": {},
   "outputs": [
    {
     "name": "stdout",
     "output_type": "stream",
     "text": [
      "hej\n"
     ]
    }
   ],
   "source": [
    "print(\"hej\")    "
   ]
  },
  {
   "cell_type": "code",
   "execution_count": 4,
   "metadata": {},
   "outputs": [
    {
     "ename": "IndexError",
     "evalue": "list index out of range",
     "output_type": "error",
     "traceback": [
      "\u001b[1;31m---------------------------------------------------------------------------\u001b[0m",
      "\u001b[1;31mIndexError\u001b[0m                                Traceback (most recent call last)",
      "Cell \u001b[1;32mIn[4], line 2\u001b[0m\n\u001b[0;32m      1\u001b[0m numbers \u001b[38;5;241m=\u001b[39m \u001b[38;5;28mlist\u001b[39m(\u001b[38;5;28mrange\u001b[39m(\u001b[38;5;241m19\u001b[39m))\n\u001b[1;32m----> 2\u001b[0m \u001b[43mnumbers\u001b[49m\u001b[43m[\u001b[49m\u001b[38;5;241;43m19\u001b[39;49m\u001b[43m]\u001b[49m\n",
      "\u001b[1;31mIndexError\u001b[0m: list index out of range"
     ]
    }
   ],
   "source": [
    "#runtime error\n",
    "\n",
    "numbers = list(range(19))\n",
    "numbers[19]"
   ]
  },
  {
   "cell_type": "code",
   "execution_count": 5,
   "metadata": {},
   "outputs": [
    {
     "name": "stdout",
     "output_type": "stream",
     "text": [
      "area_circel=314.16\n"
     ]
    }
   ],
   "source": [
    "import numpy as np\n",
    "radius = 10\n",
    "area_circel = radius**2*np.pi\n",
    "print(f\"{area_circel=:.2f}\")    \n"
   ]
  },
  {
   "cell_type": "markdown",
   "metadata": {},
   "source": [
    "## Handel errors\n",
    "-try -except "
   ]
  },
  {
   "cell_type": "code",
   "execution_count": null,
   "metadata": {},
   "outputs": [],
   "source": [
    "try:\n",
    "    #type casting might give value error.\n",
    "    age = int(input(\"Enter your age: \"))\n",
    "except ValueError as err:\n",
    "    print(err)\n",
    "    age = 0\n",
    "print(f\"your age is {age}\")\n"
   ]
  },
  {
   "cell_type": "markdown",
   "metadata": {},
   "source": [
    "## Functions \n",
    "* avoid spaghetti code\n",
    "* change one place\n",
    "* DRT- Don't Repeat Yourself\n",
    "* Organize code \n",
    "* make code modular\n",
    "* break down complex programs"
   ]
  },
  {
   "cell_type": "code",
   "execution_count": 7,
   "metadata": {},
   "outputs": [
    {
     "data": {
      "text/plain": [
       "-5"
      ]
     },
     "execution_count": 7,
     "metadata": {},
     "output_type": "execute_result"
    }
   ],
   "source": [
    "#number1 and number2 are parameters\n",
    "def smallest_of_two(number1, number2):\n",
    "    return number1  if number1 < number2 else number2   # one line if-else statement\n",
    "        #number1 ? number 1< number2: number2\n",
    "#2 and -5 are arguments\n",
    "#position of arguments is important\n",
    "smallest_of_two(2,-5) \n",
    "    "
   ]
  },
  {
   "cell_type": "code",
   "execution_count": 8,
   "metadata": {},
   "outputs": [
    {
     "data": {
      "text/plain": [
       "-5"
      ]
     },
     "execution_count": 8,
     "metadata": {},
     "output_type": "execute_result"
    }
   ],
   "source": [
    "#keyword arguments\n",
    "smallest_of_two(number2=-5, number1=-5)"
   ]
  },
  {
   "cell_type": "code",
   "execution_count": 9,
   "metadata": {},
   "outputs": [
    {
     "data": {
      "text/plain": [
       "-5"
      ]
     },
     "execution_count": 9,
     "metadata": {},
     "output_type": "execute_result"
    }
   ],
   "source": [
    "smallest_of_two(2, number2=-5)"
   ]
  },
  {
   "cell_type": "markdown",
   "metadata": {},
   "source": [
    "**default value**"
   ]
  },
  {
   "cell_type": "code",
   "execution_count": 9,
   "metadata": {},
   "outputs": [
    {
     "name": "stdout",
     "output_type": "stream",
     "text": [
      "00000\n",
      "000\n"
     ]
    }
   ],
   "source": [
    "#x 0 0 0 0\n",
    "#x x 0 0 0\n",
    "#x x x 0 0\n",
    "#x x x x 0\n",
    "#x x x x x\n",
    "def draw_ascii_pattern(number_rows=5):\n",
    " print (number_rows*\"0\")\n",
    "\n",
    "# note default value of number_rows is 5\n",
    "draw_ascii_pattern()\n",
    "draw_ascii_pattern(3)\n",
    "    "
   ]
  },
  {
   "cell_type": "code",
   "execution_count": 20,
   "metadata": {},
   "outputs": [
    {
     "name": "stdout",
     "output_type": "stream",
     "text": [
      "0 0 0 0 0 \n",
      "x 0 0 0 0 \n",
      "x x 0 0 0 \n",
      "x x x 0 0 \n",
      "x x x x 0 \n"
     ]
    }
   ],
   "source": [
    "def draw_ascii_pattern(number_rows= 5):\n",
    "    for i in range(number_rows):\n",
    "        print( f'{i* \"x \" + (number_rows -i)*\"0 \"}')\n",
    "\n",
    "draw_ascii_pattern()"
   ]
  },
  {
   "cell_type": "code",
   "execution_count": 21,
   "metadata": {},
   "outputs": [
    {
     "name": "stdout",
     "output_type": "stream",
     "text": [
      "0 0 0 \n",
      "x 0 0 \n",
      "x x 0 \n"
     ]
    }
   ],
   "source": [
    "draw_ascii_pattern(3)"
   ]
  },
  {
   "cell_type": "code",
   "execution_count": 22,
   "metadata": {},
   "outputs": [
    {
     "name": "stdout",
     "output_type": "stream",
     "text": [
      "0 0 0 0 0 0 \n",
      "x 0 0 0 0 0 \n",
      "x x 0 0 0 0 \n",
      "x x x 0 0 0 \n",
      "x x x x 0 0 \n",
      "x x x x x 0 \n"
     ]
    }
   ],
   "source": [
    "draw_ascii_pattern(6)"
   ]
  },
  {
   "cell_type": "markdown",
   "metadata": {},
   "source": [
    "\\*args\n",
    "\n",
    "\n",
    "arbitary number of positional arguments\n"
   ]
  },
  {
   "cell_type": "code",
   "execution_count": 24,
   "metadata": {},
   "outputs": [
    {
     "name": "stdout",
     "output_type": "stream",
     "text": [
      "(1, 2, 3, 4, 5, 6, 7, 8, 9, 10)\n"
     ]
    }
   ],
   "source": [
    "def mean_(*args):\n",
    "    print(args)\n",
    "\n",
    "\n",
    "# it will print a tuple of all arguments    \n",
    "mean_(1,2,3,4,5,6,7,8,9,10)"
   ]
  },
  {
   "cell_type": "code",
   "execution_count": 25,
   "metadata": {},
   "outputs": [
    {
     "name": "stdout",
     "output_type": "stream",
     "text": [
      "(1, 2)\n"
     ]
    }
   ],
   "source": [
    "mean_(1,2)"
   ]
  },
  {
   "cell_type": "code",
   "execution_count": 28,
   "metadata": {},
   "outputs": [
    {
     "data": {
      "text/plain": [
       "2.0"
      ]
     },
     "execution_count": 28,
     "metadata": {},
     "output_type": "execute_result"
    }
   ],
   "source": [
    "def mean_(*args):\n",
    "    sum_ = 0\n",
    "    for arg in args:\n",
    "        sum_ += arg \n",
    "    return sum_/len(args)\n",
    "\n",
    "mean_(1,2,3)"
   ]
  },
  {
   "cell_type": "markdown",
   "metadata": {},
   "source": [
    "*\\*kwargs"
   ]
  },
  {
   "cell_type": "code",
   "execution_count": 30,
   "metadata": {},
   "outputs": [
    {
     "name": "stdout",
     "output_type": "stream",
     "text": [
      "{'a': 5, 'is_active': True, 'age': 20, 'city': 'Lahore'}\n",
      "options.keys()=dict_keys(['a', 'is_active', 'age', 'city'])\n",
      "options.values()=dict_values([5, True, 20, 'Lahore'])\n"
     ]
    }
   ],
   "source": [
    "def print_kwargs(**options):\n",
    "    print(options)\n",
    "    print(f\"{options.keys()=}\")\n",
    "    print(f\"{options.values()=}\")\n",
    "    \n",
    "\n",
    "\n",
    "\n",
    "\n",
    "print_kwargs(a= 5,is_active= True,  age=20, city=\"Lahore\")"
   ]
  },
  {
   "cell_type": "markdown",
   "metadata": {},
   "source": [
    "## File handling"
   ]
  },
  {
   "cell_type": "code",
   "execution_count": 2,
   "metadata": {},
   "outputs": [
    {
     "data": {
      "text/plain": [
       "'SUperViseD LEARNinG IS a PaRt oF MaCHinE LEARniNG, wheRE aLgORithms LEARn FRom a tRAINIng DaTa Set. THese aLgORithms TRY TO MaKE SeNSe Of ThE DaTa BY MaTChiNG INpUtS TO CoRResPonDInG OutpUTs. In suPERviseD LEARNing, EACH DaTa PoINt in ThE tRAINIng Set IS LaBELEd WiTH ThE CoRReCT OutpUT, WHich aLLOWS thE ALgORithM To LEARn FRom ThE ExAMPles. THis alLOWS thE ALgORithM To MaKe PREDIcTions On UnSEEN DaTa, BaSED On ITs TRaiNIng. iT IS USEd FoR taSKS SuCH AS CLaSSIFICaTion, WheRE ThE GoAL IS To aSSIGn a LaBEL To InpUt DaTa, anD REGrESsIoN, WheRE ThE GoAL IS To PREDIcT a CoNtINuoUS OutpUT VaRIabLE. SuPERviseD LEARNing HaS MaNY APPLIcatIoNS In ArEas LIke Image ReCOGNitiON, NatuRaL LaNGuaGE PRoCESSINg, anD FiNaNCiaL FoRECasting.'"
      ]
     },
     "execution_count": 2,
     "metadata": {},
     "output_type": "execute_result"
    }
   ],
   "source": [
    "import re\n",
    "\n",
    "\n",
    "with open(\"data/ml_text_raw.txt\",'r') as file:\n",
    "    raw_text = file.read()\n",
    "\n",
    "text_fixed_spacing = re.sub(r\"\\s+\",\" \",raw_text)\n",
    "text_fixed_spacing\n"
   ]
  },
  {
   "cell_type": "code",
   "execution_count": 4,
   "metadata": {},
   "outputs": [
    {
     "data": {
      "text/plain": [
       "['SUperViseD LEARNinG IS a PaRt oF MaCHinE LEARniNG, wheRE aLgORithms LEARn FRom a tRAINIng DaTa Set',\n",
       " 'THese aLgORithms TRY TO MaKE SeNSe Of ThE DaTa BY MaTChiNG INpUtS TO CoRResPonDInG OutpUTs',\n",
       " 'In suPERviseD LEARNing, EACH DaTa PoINt in ThE tRAINIng Set IS LaBELEd WiTH ThE CoRReCT OutpUT, WHich aLLOWS thE ALgORithM To LEARn FRom ThE ExAMPles',\n",
       " 'THis alLOWS thE ALgORithM To MaKe PREDIcTions On UnSEEN DaTa, BaSED On ITs TRaiNIng',\n",
       " 'iT IS USEd FoR taSKS SuCH AS CLaSSIFICaTion, WheRE ThE GoAL IS To aSSIGn a LaBEL To InpUt DaTa, anD REGrESsIoN, WheRE ThE GoAL IS To PREDIcT a CoNtINuoUS OutpUT VaRIabLE',\n",
       " 'SuPERviseD LEARNing HaS MaNY APPLIcatIoNS In ArEas LIke Image ReCOGNitiON, NatuRaL LaNGuaGE PRoCESSINg, anD FiNaNCiaL FoRECasting.']"
      ]
     },
     "execution_count": 4,
     "metadata": {},
     "output_type": "execute_result"
    }
   ],
   "source": [
    "text_fixed_spacing.split(\". \")"
   ]
  },
  {
   "cell_type": "code",
   "execution_count": 8,
   "metadata": {},
   "outputs": [
    {
     "data": {
      "text/plain": [
       "['Supervised learning is a part of machine learning, where algorithms learn from a training data set',\n",
       " 'These algorithms try to make sense of the data by matching inputs to corresponding outputs',\n",
       " 'In supervised learning, each data point in the training set is labeled with the correct output, which allows the algorithm to learn from the examples',\n",
       " 'This allows the algorithm to make predictions on unseen data, based on its training',\n",
       " 'It is used for tasks such as classification, where the goal is to assign a label to input data, and regression, where the goal is to predict a continuous output variable',\n",
       " 'Supervised learning has many applications in areas like image recognition, natural language processing, and financial forecasting.']"
      ]
     },
     "execution_count": 8,
     "metadata": {},
     "output_type": "execute_result"
    }
   ],
   "source": [
    "[text.capitalize() for text in text_fixed_spacing.split(\". \")]   "
   ]
  },
  {
   "cell_type": "code",
   "execution_count": 9,
   "metadata": {},
   "outputs": [
    {
     "data": {
      "text/plain": [
       "['Supervised learning is a part of machine learning, where algorithms learn from a training data set',\n",
       " 'These algorithms try to make sense of the data by matching inputs to corresponding outputs',\n",
       " 'In supervised learning, each data point in the training set is labeled with the correct output, which allows the algorithm to learn from the examples',\n",
       " 'This allows the algorithm to make predictions on unseen data, based on its training',\n",
       " 'It is used for tasks such as classification, where the goal is to assign a label to input data, and regression, where the goal is to predict a continuous output variable',\n",
       " 'Supervised learning has many applications in areas like image recognition, natural language processing, and financial forecasting.']"
      ]
     },
     "execution_count": 9,
     "metadata": {},
     "output_type": "execute_result"
    }
   ],
   "source": [
    "[text.strip().capitalize() for text in text_fixed_spacing.split(\". \")]"
   ]
  },
  {
   "cell_type": "code",
   "execution_count": 11,
   "metadata": {},
   "outputs": [
    {
     "data": {
      "text/plain": [
       "['Supervised learning is a part of machine learning, where algorithms learn from a training data set',\n",
       " 'These algorithms try to make sense of the data by matching inputs to corresponding outputs',\n",
       " 'In supervised learning, each data point in the training set is labeled with the correct output, which allows the algorithm to learn from the examples',\n",
       " 'This allows the algorithm to make predictions on unseen data, based on its training',\n",
       " 'It is used for tasks such as classification, where the goal is to assign a label to input data, and regression, where the goal is to predict a continuous output variable']"
      ]
     },
     "execution_count": 11,
     "metadata": {},
     "output_type": "execute_result"
    }
   ],
   "source": [
    "sentences = [text.strip().capitalize() for text in text_fixed_spacing.split(\". \")]\n",
    "sentences =sentences[:-1]\n",
    "sentences"
   ]
  },
  {
   "cell_type": "code",
   "execution_count": 14,
   "metadata": {},
   "outputs": [
    {
     "data": {
      "text/plain": [
       "'Supervised learning is a part of machine learning, where algorithms learn from a training data set./nThese algorithms try to make sense of the data by matching inputs to corresponding outputs./nIn supervised learning, each data point in the training set is labeled with the correct output, which allows the algorithm to learn from the examples./nThis allows the algorithm to make predictions on unseen data, based on its training./nIt is used for tasks such as classification, where the goal is to assign a label to input data, and regression, where the goal is to predict a continuous output variable'"
      ]
     },
     "execution_count": 14,
     "metadata": {},
     "output_type": "execute_result"
    }
   ],
   "source": [
    "\"./n\".join(sentences)"
   ]
  },
  {
   "cell_type": "code",
   "execution_count": 16,
   "metadata": {},
   "outputs": [
    {
     "name": "stdout",
     "output_type": "stream",
     "text": [
      "Supervised learning is a part of machine learning, where algorithms learn from a training data set.\n",
      "\n",
      "These algorithms try to make sense of the data by matching inputs to corresponding outputs.\n",
      "\n",
      "In supervised learning, each data point in the training set is labeled with the correct output, which allows the algorithm to learn from the examples.\n",
      "\n",
      "This allows the algorithm to make predictions on unseen data, based on its training.\n",
      "\n",
      "It is used for tasks such as classification, where the goal is to assign a label to input data, and regression, where the goal is to predict a continuous output variable\n"
     ]
    }
   ],
   "source": [
    "cleaned_text = \".\\n\\n\".join(sentences)\n",
    "print(cleaned_text)"
   ]
  },
  {
   "cell_type": "code",
   "execution_count": 17,
   "metadata": {},
   "outputs": [],
   "source": [
    "with open(\"data/ml_text_cleaned.txt\",'w') as file:\n",
    "    file.write(cleaned_text)"
   ]
  }
 ],
 "metadata": {
  "kernelspec": {
   "display_name": ".venv",
   "language": "python",
   "name": "python3"
  },
  "language_info": {
   "codemirror_mode": {
    "name": "ipython",
    "version": 3
   },
   "file_extension": ".py",
   "mimetype": "text/x-python",
   "name": "python",
   "nbconvert_exporter": "python",
   "pygments_lexer": "ipython3",
   "version": "3.13.0"
  }
 },
 "nbformat": 4,
 "nbformat_minor": 2
}
